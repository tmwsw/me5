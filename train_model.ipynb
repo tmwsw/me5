{
 "cells": [
  {
   "cell_type": "markdown",
   "id": "72b20b95",
   "metadata": {},
   "source": [
    "# Загрузка библиотек"
   ]
  },
  {
   "cell_type": "code",
   "execution_count": 99,
   "id": "e5309f4c",
   "metadata": {},
   "outputs": [],
   "source": [
    "import pandas as pd\n",
    "from sklearn.model_selection import train_test_split, GridSearchCV, cross_val_score\n",
    "from sklearn.feature_extraction.text import TfidfVectorizer\n",
    "from sklearn.neighbors import KNeighborsClassifier\n",
    "from sklearn.naive_bayes import MultinomialNB\n",
    "from sklearn.metrics import accuracy_score, classification_report, confusion_matrix, f1_score\n",
    "import joblib\n",
    "import warnings\n",
    "warnings.filterwarnings('ignore')  # Игнорируем предупреждения для чистоты вывода"
   ]
  },
  {
   "cell_type": "markdown",
   "id": "5f09f36e",
   "metadata": {},
   "source": [
    "# === 1. Загрузка данных ==="
   ]
  },
  {
   "cell_type": "code",
   "execution_count": 100,
   "id": "9a997afd",
   "metadata": {},
   "outputs": [
    {
     "name": "stdout",
     "output_type": "stream",
     "text": [
      "🔎 Пример данных:\n",
      "                                          clean_text  spam\n",
      "0  naturally irresistible your corporate identity...     1\n",
      "1  the stock trading gunslinger fanny is merrill ...     1\n",
      "2  unbelievable new homes made easy im wanting to...     1\n",
      "3  color printing special request additional info...     1\n",
      "4  do not have money get software cds from here s...     1 \n",
      "\n"
     ]
    }
   ],
   "source": [
    "data = pd.read_csv(\"./data/emails_clean.csv\")\n",
    "\n",
    "print(\"🔎 Пример данных:\")\n",
    "print(data.head(), \"\\n\")"
   ]
  },
  {
   "cell_type": "code",
   "execution_count": 101,
   "id": "43590178",
   "metadata": {},
   "outputs": [
    {
     "name": "stdout",
     "output_type": "stream",
     "text": [
      "Баланс классов (spam/ham):\n",
      "spam\n",
      "0    0.761173\n",
      "1    0.238827\n",
      "Name: proportion, dtype: float64 \n",
      "\n"
     ]
    }
   ],
   "source": [
    "# Проверка баланса классов\n",
    "print(\"Баланс классов (spam/ham):\")\n",
    "print(data['spam'].value_counts(normalize=True), \"\\n\")"
   ]
  },
  {
   "cell_type": "markdown",
   "id": "69623c11",
   "metadata": {},
   "source": [
    "# Векторизация"
   ]
  },
  {
   "cell_type": "code",
   "execution_count": 102,
   "id": "a6ffd0ca",
   "metadata": {},
   "outputs": [
    {
     "name": "stdout",
     "output_type": "stream",
     "text": [
      "✅ Матрица TF-IDF создана: (5728, 5000)\n"
     ]
    }
   ],
   "source": [
    "vectorizer = TfidfVectorizer(\n",
    "    stop_words='english',   # удаляем стоп-слова\n",
    "    max_features=5000,     # ограничиваем число признаков\n",
    "    ngram_range=(1, 2),  # используем униграммы и биграммы\n",
    "    max_df=0.85,\n",
    "    min_df=3,\n",
    "    lowercase=True,\n",
    "    sublinear_tf=True\n",
    ")\n",
    "\n",
    "X = vectorizer.fit_transform(data['clean_text'])\n",
    "y = data['spam']\n",
    "\n",
    "print(\"✅ Матрица TF-IDF создана:\", X.shape)"
   ]
  },
  {
   "cell_type": "markdown",
   "id": "b2cd505e",
   "metadata": {},
   "source": [
    "# Разбиение данных"
   ]
  },
  {
   "cell_type": "code",
   "execution_count": 103,
   "id": "9a4be418",
   "metadata": {},
   "outputs": [
    {
     "name": "stdout",
     "output_type": "stream",
     "text": [
      "Размер обучающей выборки: (4296, 5000)\n",
      "Размер тестовой выборки: (1432, 5000)\n"
     ]
    }
   ],
   "source": [
    "# === Train/Test split ===\n",
    "X_train, X_test, y_train, y_test = train_test_split(\n",
    "    X, y, test_size=0.25, stratify=y, random_state=42\n",
    ")\n",
    "\n",
    "print(\"Размер обучающей выборки:\", X_train.shape)\n",
    "print(\"Размер тестовой выборки:\", X_test.shape)"
   ]
  },
  {
   "cell_type": "markdown",
   "id": "cae6d877",
   "metadata": {},
   "source": [
    "# Обработка дисбаланса"
   ]
  },
  {
   "cell_type": "code",
   "execution_count": 104,
   "id": "804045b8",
   "metadata": {},
   "outputs": [
    {
     "name": "stdout",
     "output_type": "stream",
     "text": [
      "Размер сбалансированной обучающей выборки: (6540, 5000)\n",
      "Баланс классов после SMOTE:\n",
      "spam\n",
      "0    0.5\n",
      "1    0.5\n",
      "Name: proportion, dtype: float64 \n",
      "\n"
     ]
    }
   ],
   "source": [
    "from imblearn.over_sampling import SMOTE\n",
    "\n",
    "# Применение SMOTE после разделения данных\n",
    "smote = SMOTE(random_state=42, sampling_strategy='auto')  # 'auto' создаёт равное число примеров для обоих классов\n",
    "X_train_resampled, y_train_resampled = smote.fit_resample(X_train, y_train)\n",
    "print(\"Размер сбалансированной обучающей выборки:\", X_train_resampled.shape)\n",
    "print(\"Баланс классов после SMOTE:\")\n",
    "print(pd.Series(y_train_resampled).value_counts(normalize=True), \"\\n\")"
   ]
  },
  {
   "cell_type": "markdown",
   "id": "1282021c",
   "metadata": {},
   "source": [
    "# === Обучение ==="
   ]
  },
  {
   "cell_type": "code",
   "execution_count": 105,
   "id": "6721c170",
   "metadata": {},
   "outputs": [
    {
     "name": "stdout",
     "output_type": "stream",
     "text": [
      "=== k-NN Classifier ===\n",
      "Лучшие параметры: {'metric': 'cosine', 'n_neighbors': 3}\n",
      "Accuracy: 0.979050279329609\n",
      "\n",
      "Classification Report:\n",
      "               precision    recall  f1-score   support\n",
      "\n",
      "           0       0.99      0.98      0.99      1090\n",
      "           1       0.94      0.97      0.96       342\n",
      "\n",
      "    accuracy                           0.98      1432\n",
      "   macro avg       0.97      0.98      0.97      1432\n",
      "weighted avg       0.98      0.98      0.98      1432\n",
      "\n",
      "Confusion Matrix:\n",
      " [[1069   21]\n",
      " [   9  333]]\n"
     ]
    }
   ],
   "source": [
    "knn_params = {\n",
    "    'n_neighbors': [3, 5, 7, 10],\n",
    "    'metric': ['cosine']\n",
    "}\n",
    "\n",
    "knn_grid = GridSearchCV(KNeighborsClassifier(), knn_params, cv=3, scoring='f1', n_jobs=-1)\n",
    "knn_grid.fit(X_train_resampled, y_train_resampled)\n",
    "\n",
    "y_pred_knn = knn_grid.predict(X_test)\n",
    "\n",
    "print(\"=== k-NN Classifier ===\")\n",
    "print(\"Лучшие параметры:\", knn_grid.best_params_)\n",
    "print(\"Accuracy:\", accuracy_score(y_test, y_pred_knn))\n",
    "print(\"\\nClassification Report:\\n\", classification_report(y_test, y_pred_knn))\n",
    "print(\"Confusion Matrix:\\n\", confusion_matrix(y_test, y_pred_knn))"
   ]
  },
  {
   "cell_type": "markdown",
   "id": "4ece344a",
   "metadata": {},
   "source": [
    "# Кросс-валидация для k-NN"
   ]
  },
  {
   "cell_type": "code",
   "execution_count": 106,
   "id": "c813d373",
   "metadata": {},
   "outputs": [
    {
     "name": "stdout",
     "output_type": "stream",
     "text": [
      "Кросс-валидация (k-NN): 0.9884789318457212 ± 0.0032340881417894226 \n",
      "\n"
     ]
    }
   ],
   "source": [
    "knn_scores = cross_val_score(knn_grid.best_estimator_, X, y, cv=5, scoring='accuracy')\n",
    "print(\"Кросс-валидация (k-NN):\", knn_scores.mean(), \"±\", knn_scores.std(), \"\\n\")"
   ]
  },
  {
   "cell_type": "markdown",
   "id": "1599a342",
   "metadata": {},
   "source": [
    "# === Обучение ==="
   ]
  },
  {
   "cell_type": "code",
   "execution_count": 107,
   "id": "354984fb",
   "metadata": {},
   "outputs": [
    {
     "name": "stdout",
     "output_type": "stream",
     "text": [
      "=== Naive Bayes Classifier ===\n",
      "Accuracy: 0.986731843575419\n",
      "\n",
      "Classification Report:\n",
      "               precision    recall  f1-score   support\n",
      "\n",
      "           0       0.99      0.99      0.99      1090\n",
      "           1       0.97      0.98      0.97       342\n",
      "\n",
      "    accuracy                           0.99      1432\n",
      "   macro avg       0.98      0.98      0.98      1432\n",
      "weighted avg       0.99      0.99      0.99      1432\n",
      "\n",
      "Confusion Matrix:\n",
      " [[1079   11]\n",
      " [   8  334]]\n"
     ]
    }
   ],
   "source": [
    "nb = MultinomialNB(alpha=0.1, class_prior=None)\n",
    "nb.fit(X_train_resampled, y_train_resampled)\n",
    "\n",
    "y_pred_nb = nb.predict(X_test)\n",
    "\n",
    "print(\"=== Naive Bayes Classifier ===\")\n",
    "print(\"Accuracy:\", accuracy_score(y_test, y_pred_nb))\n",
    "print(\"\\nClassification Report:\\n\", classification_report(y_test, y_pred_nb))\n",
    "print(\"Confusion Matrix:\\n\", confusion_matrix(y_test, y_pred_nb))"
   ]
  },
  {
   "cell_type": "markdown",
   "id": "e8f4de0e",
   "metadata": {},
   "source": [
    "# Кросс-валидация для Naive Bayes"
   ]
  },
  {
   "cell_type": "code",
   "execution_count": 108,
   "id": "cf83e0cc",
   "metadata": {},
   "outputs": [
    {
     "name": "stdout",
     "output_type": "stream",
     "text": [
      "Кросс-валидация (Naive Bayes): 0.987080484998133 ± 0.0016968029214997345 \n",
      "\n"
     ]
    }
   ],
   "source": [
    "nb_scores = cross_val_score(nb, X, y, cv=5, scoring='accuracy')\n",
    "print(\"Кросс-валидация (Naive Bayes):\", nb_scores.mean(), \"±\", nb_scores.std(), \"\\n\")"
   ]
  },
  {
   "cell_type": "markdown",
   "id": "75e2db1e",
   "metadata": {},
   "source": [
    "# Сравнение моделей"
   ]
  },
  {
   "cell_type": "code",
   "execution_count": 109,
   "id": "07d8fb8a",
   "metadata": {},
   "outputs": [
    {
     "name": "stdout",
     "output_type": "stream",
     "text": [
      "=== k-NN Classifier ===\n",
      "Лучшие параметры: {'metric': 'cosine', 'n_neighbors': 3}\n",
      "Accuracy: 0.979050279329609\n",
      "F1-score: 0.9568965517241379\n",
      "\n",
      "Classification Report:\n",
      "               precision    recall  f1-score   support\n",
      "\n",
      "           0       0.99      0.98      0.99      1090\n",
      "           1       0.94      0.97      0.96       342\n",
      "\n",
      "    accuracy                           0.98      1432\n",
      "   macro avg       0.97      0.98      0.97      1432\n",
      "weighted avg       0.98      0.98      0.98      1432\n",
      "\n",
      "Confusion Matrix:\n",
      " [[1069   21]\n",
      " [   9  333]]\n",
      "Кросс-валидация F1 (k-NN): 0.9757163675190142 ± 0.0009283212549808528 \n",
      "\n",
      "=== Naive Bayes Classifier ===\n",
      "Accuracy: 0.986731843575419\n",
      "F1-score: 0.9723435225618632\n",
      "\n",
      "Classification Report:\n",
      "               precision    recall  f1-score   support\n",
      "\n",
      "           0       0.99      0.99      0.99      1090\n",
      "           1       0.97      0.98      0.97       342\n",
      "\n",
      "    accuracy                           0.99      1432\n",
      "   macro avg       0.98      0.98      0.98      1432\n",
      "weighted avg       0.99      0.99      0.99      1432\n",
      "\n",
      "Confusion Matrix:\n",
      " [[1079   11]\n",
      " [   8  334]]\n",
      "Кросс-валидация F1 (Naive Bayes): 0.9708435929160899 ± 0.004033739804864848 \n",
      "\n"
     ]
    }
   ],
   "source": [
    "# Оценка k-NN\n",
    "y_pred_knn = knn_grid.predict(X_test)\n",
    "print(\"=== k-NN Classifier ===\")\n",
    "print(\"Лучшие параметры:\", knn_grid.best_params_)\n",
    "print(\"Accuracy:\", accuracy_score(y_test, y_pred_knn))\n",
    "print(\"F1-score:\", f1_score(y_test, y_pred_knn))  # Добавляем F1\n",
    "print(\"\\nClassification Report:\\n\", classification_report(y_test, y_pred_knn, zero_division=0))\n",
    "print(\"Confusion Matrix:\\n\", confusion_matrix(y_test, y_pred_knn))\n",
    "\n",
    "# Кросс-валидация для k-NN\n",
    "knn_scores = cross_val_score(knn_grid.best_estimator_, X, y, cv=3, scoring='f1')\n",
    "print(\"Кросс-валидация F1 (k-NN):\", knn_scores.mean(), \"±\", knn_scores.std(), \"\\n\")\n",
    "\n",
    "# Оценка Naive Bayes\n",
    "y_pred_nb = nb.predict(X_test)\n",
    "print(\"=== Naive Bayes Classifier ===\")\n",
    "print(\"Accuracy:\", accuracy_score(y_test, y_pred_nb))\n",
    "print(\"F1-score:\", f1_score(y_test, y_pred_nb))  # Добавляем F1\n",
    "print(\"\\nClassification Report:\\n\", classification_report(y_test, y_pred_nb, zero_division=0))\n",
    "print(\"Confusion Matrix:\\n\", confusion_matrix(y_test, y_pred_nb))\n",
    "\n",
    "# Кросс-валидация для Naive Bayes\n",
    "nb_scores = cross_val_score(nb, X, y, cv=3, scoring='f1')\n",
    "print(\"Кросс-валидация F1 (Naive Bayes):\", nb_scores.mean(), \"±\", nb_scores.std(), \"\\n\")"
   ]
  },
  {
   "cell_type": "markdown",
   "id": "42245cf1",
   "metadata": {},
   "source": [
    "# === Сохранение модели ==="
   ]
  },
  {
   "cell_type": "code",
   "execution_count": 110,
   "id": "a55d45c9",
   "metadata": {},
   "outputs": [
    {
     "name": "stdout",
     "output_type": "stream",
     "text": [
      "Модели и векторизатор сохранены!\n"
     ]
    }
   ],
   "source": [
    "# Сохранение моделей и векторизатора\n",
    "joblib.dump(vectorizer, \"vectorizer.pkl\")\n",
    "joblib.dump(knn_grid.best_estimator_, \"knn_model.pkl\")  # Сохраняем лучшую модель k-NN\n",
    "joblib.dump(nb, \"nb_model.pkl\")\n",
    "print(\"Модели и векторизатор сохранены!\")"
   ]
  },
  {
   "cell_type": "markdown",
   "id": "3ba41a9b",
   "metadata": {},
   "source": [
    "# Mini app для проверки моделей"
   ]
  },
  {
   "cell_type": "code",
   "execution_count": 111,
   "id": "c05e2a62",
   "metadata": {},
   "outputs": [
    {
     "name": "stdout",
     "output_type": "stream",
     "text": [
      "Введите предложение для проверки (или 'exit' для выхода):\n",
      "Выход из программы.\n"
     ]
    }
   ],
   "source": [
    "vectorizer = joblib.load(\"vectorizer.pkl\")\n",
    "knn = joblib.load(\"knn_model.pkl\")\n",
    "nb = joblib.load(\"nb_model.pkl\")\n",
    "\n",
    "def check_models(texts):\n",
    "    X_vec = vectorizer.transform(texts)\n",
    "    \n",
    "    knn_pred = knn.predict(X_vec)\n",
    "    nb_pred = nb.predict(X_vec)\n",
    "    \n",
    "    for i, text in enumerate(texts):\n",
    "        print(f\"\\nТекст: '{text}'\")\n",
    "        print(f\"  KNN: {knn_pred[i]}\")\n",
    "        print(f\"  Naive Bayes: {nb_pred[i]}\")\n",
    "        print(\"-\" * 30)\n",
    "\n",
    "if __name__ == \"__main__\":\n",
    "    print(\"Введите предложение для проверки (или 'exit' для выхода):\")\n",
    "    \n",
    "    while True:\n",
    "        user_input = input(\"> \").strip()\n",
    "        if user_input.lower() == \"exit\":\n",
    "            print(\"Выход из программы.\")\n",
    "            break\n",
    "        elif user_input:\n",
    "            check_models([user_input])\n",
    "        else:\n",
    "            print(\"Пустой ввод, попробуйте снова.\")"
   ]
  }
 ],
 "metadata": {
  "kernelspec": {
   "display_name": "Python 3",
   "language": "python",
   "name": "python3"
  },
  "language_info": {
   "codemirror_mode": {
    "name": "ipython",
    "version": 3
   },
   "file_extension": ".py",
   "mimetype": "text/x-python",
   "name": "python",
   "nbconvert_exporter": "python",
   "pygments_lexer": "ipython3",
   "version": "3.13.3"
  }
 },
 "nbformat": 4,
 "nbformat_minor": 5
}
