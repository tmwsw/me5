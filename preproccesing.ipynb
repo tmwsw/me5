{
 "cells": [
  {
   "cell_type": "markdown",
   "id": "bfb2fe2a",
   "metadata": {},
   "source": [
    "# Импорт библиотек"
   ]
  },
  {
   "cell_type": "code",
   "execution_count": 7,
   "id": "00ccae5c",
   "metadata": {},
   "outputs": [],
   "source": [
    "import pandas as pd\n",
    "import re\n",
    "import string"
   ]
  },
  {
   "cell_type": "markdown",
   "id": "cf739c94",
   "metadata": {},
   "source": [
    "# Загружаем данные"
   ]
  },
  {
   "cell_type": "code",
   "execution_count": 8,
   "id": "5741c67b",
   "metadata": {},
   "outputs": [
    {
     "name": "stdout",
     "output_type": "stream",
     "text": [
      "Первые строки датасета:\n",
      "                                                text  spam\n",
      "0  Subject: naturally irresistible your corporate...     1\n",
      "1  Subject: the stock trading gunslinger  fanny i...     1\n",
      "2  Subject: unbelievable new homes made easy  im ...     1\n",
      "3  Subject: 4 color printing special  request add...     1\n",
      "4  Subject: do not have money , get software cds ...     1 \n",
      "\n",
      "ℹИнформация о датасете:\n",
      "<class 'pandas.core.frame.DataFrame'>\n",
      "RangeIndex: 5728 entries, 0 to 5727\n",
      "Data columns (total 2 columns):\n",
      " #   Column  Non-Null Count  Dtype \n",
      "---  ------  --------------  ----- \n",
      " 0   text    5728 non-null   object\n",
      " 1   spam    5728 non-null   int64 \n",
      "dtypes: int64(1), object(1)\n",
      "memory usage: 89.6+ KB\n",
      "None \n",
      "\n",
      "Количество пропусков в данных:\n",
      "text    0\n",
      "spam    0\n",
      "dtype: int64 \n",
      "\n"
     ]
    }
   ],
   "source": [
    "data = pd.read_csv(\"./data/emails.csv\", encoding=\"latin-1\")\n",
    "\n",
    "print(\"Первые строки датасета:\")\n",
    "print(data.head(), \"\\n\")\n",
    "\n",
    "print(\"ℹИнформация о датасете:\")\n",
    "print(data.info(), \"\\n\")\n",
    "\n",
    "print(\"Количество пропусков в данных:\")\n",
    "print(data.isnull().sum(), \"\\n\")"
   ]
  },
  {
   "cell_type": "markdown",
   "id": "652074d5",
   "metadata": {},
   "source": [
    "# Очистка текста"
   ]
  },
  {
   "cell_type": "code",
   "execution_count": 9,
   "id": "f220ec11",
   "metadata": {},
   "outputs": [],
   "source": [
    "def clean_text(text):\n",
    "    text = str(text).lower()  # приводим к строке и делаем нижний регистр\n",
    "    text = re.sub(r\"subject\", \" \", text)\n",
    "    text = re.sub(r\"http\\S+\", \" \", text)  # удаляем ссылки\n",
    "    text = re.sub(r\"\\d+\", \" \", text)      # удаляем числа\n",
    "    text = text.translate(str.maketrans(\"\", \"\", string.punctuation))  # убираем пунктуацию\n",
    "    text = re.sub(r\"\\s+\", \" \", text).strip()  # убираем лишние пробелы\n",
    "    return text\n",
    "\n",
    "# очищаем и сохраняем только нужные колонки\n",
    "data['clean_text'] = data['text'].apply(clean_text)\n",
    "\n",
    "# оставляем только очищенный текст + метку\n",
    "data = data[['clean_text', 'spam']]"
   ]
  },
  {
   "cell_type": "markdown",
   "id": "0a2c1ac5",
   "metadata": {},
   "source": [
    "# Проверим результат"
   ]
  },
  {
   "cell_type": "code",
   "execution_count": 10,
   "id": "58487663",
   "metadata": {},
   "outputs": [
    {
     "name": "stdout",
     "output_type": "stream",
     "text": [
      "Пример после очистки:\n",
      "                                          clean_text  spam\n",
      "0  naturally irresistible your corporate identity...     1\n",
      "1  the stock trading gunslinger fanny is merrill ...     1\n",
      "2  unbelievable new homes made easy im wanting to...     1\n",
      "3  color printing special request additional info...     1\n",
      "4  do not have money get software cds from here s...     1 \n",
      "\n",
      "Баланс классов:\n",
      "spam\n",
      "0    4360\n",
      "1    1368\n",
      "Name: count, dtype: int64 \n",
      "\n"
     ]
    }
   ],
   "source": [
    "print(\"Пример после очистки:\")\n",
    "print(data[['clean_text', 'spam']].head(), \"\\n\")\n",
    "\n",
    "print(\"Баланс классов:\")\n",
    "print(data['spam'].value_counts(), \"\\n\")"
   ]
  },
  {
   "cell_type": "markdown",
   "id": "aedeafdc",
   "metadata": {},
   "source": [
    "# Сохраняем очищенный датасет"
   ]
  },
  {
   "cell_type": "code",
   "execution_count": 11,
   "id": "a696fbde",
   "metadata": {},
   "outputs": [
    {
     "name": "stdout",
     "output_type": "stream",
     "text": [
      "Датасет сохранён в 'emails_clean.csv'\n"
     ]
    }
   ],
   "source": [
    "data.to_csv(\"./data/emails_clean.csv\", index=False, encoding=\"utf-8\")\n",
    "print(\"Датасет сохранён в 'emails_clean.csv'\")"
   ]
  }
 ],
 "metadata": {
  "kernelspec": {
   "display_name": "Python 3",
   "language": "python",
   "name": "python3"
  },
  "language_info": {
   "codemirror_mode": {
    "name": "ipython",
    "version": 3
   },
   "file_extension": ".py",
   "mimetype": "text/x-python",
   "name": "python",
   "nbconvert_exporter": "python",
   "pygments_lexer": "ipython3",
   "version": "3.13.3"
  }
 },
 "nbformat": 4,
 "nbformat_minor": 5
}
