{
 "cells": [
  {
   "cell_type": "markdown",
   "id": "72b20b95",
   "metadata": {},
   "source": [
    "# Загрузка библиотек"
   ]
  },
  {
   "cell_type": "code",
   "execution_count": 2,
   "id": "e5309f4c",
   "metadata": {},
   "outputs": [],
   "source": [
    "import pandas as pd\n",
    "import re\n",
    "import string\n",
    "import nltk\n",
    "from sklearn.model_selection import train_test_split, GridSearchCV\n",
    "from sklearn.feature_extraction.text import TfidfVectorizer\n",
    "from sklearn.neighbors import KNeighborsClassifier\n",
    "from sklearn.pipeline import Pipeline\n",
    "from sklearn.metrics import accuracy_score, classification_report, confusion_matrix, f1_score, precision_score, recall_score\n",
    "import joblib\n",
    "import numpy as np"
   ]
  },
  {
   "cell_type": "markdown",
   "id": "5f09f36e",
   "metadata": {},
   "source": [
    "# === 1. Загрузка данных ==="
   ]
  },
  {
   "cell_type": "code",
   "execution_count": 3,
   "id": "efc87e95",
   "metadata": {},
   "outputs": [],
   "source": [
    "def advanced_clean_text(text):\n",
    "    text = text.lower()\n",
    "    \n",
    "    # Удаление email адресов\n",
    "    text = re.sub(r'\\b[A-Za-z0-9._%+-]+@[A-Za-z0-9.-]+\\.[A-Z|a-z]{2,}\\b', ' ', text)\n",
    "    # Удаление URL\n",
    "    text = re.sub(r'http\\S+|www\\.\\S+', ' ', text)\n",
    "    # Удаление телефонных номеров\n",
    "    text = re.sub(r'\\b\\d{10,}\\b', ' ', text)\n",
    "    # Удаление денежных сумм (но сохраняем символ валюты как признак спама)\n",
    "    text = re.sub(r'\\$\\d+', ' money ', text)\n",
    "    # Удаление обычных чисел\n",
    "    text = re.sub(r'\\b\\d+\\b', ' ', text)\n",
    "    # Сохраняем восклицательные знаки (признак спама)\n",
    "    text = re.sub(r'!+', ' excl ', text)\n",
    "    # Удаление пунктуации (кроме некоторых символов)\n",
    "    text = re.sub(r'[^\\w\\s!?]', ' ', text)\n",
    "    # Удаление лишних пробелов\n",
    "    text = re.sub(r'\\s+', ' ', text).strip()\n",
    "    return text"
   ]
  },
  {
   "cell_type": "markdown",
   "id": "2a9be15f",
   "metadata": {},
   "source": [
    "# === 2. Очистка текста ==="
   ]
  },
  {
   "cell_type": "code",
   "execution_count": 4,
   "id": "a6ffd0ca",
   "metadata": {},
   "outputs": [
    {
     "name": "stdout",
     "output_type": "stream",
     "text": [
      "Загрузка данных...\n",
      "Распределение классов:\n",
      "label\n",
      "ham     4825\n",
      "spam     747\n",
      "Name: count, dtype: int64\n",
      "Предобработка текста...\n"
     ]
    }
   ],
   "source": [
    "# Загрузка и подготовка данных\n",
    "print(\"Загрузка данных...\")\n",
    "data = pd.read_csv(\"spam.csv\", encoding=\"latin-1\")\n",
    "data = data[['v1', 'v2']]\n",
    "data.columns = ['label', 'message']\n",
    "\n",
    "print(\"Распределение классов:\")\n",
    "print(data['label'].value_counts())\n",
    "\n",
    "data['label'] = data['label'].map({'ham': 0, 'spam': 1})\n",
    "\n",
    "# Применяем улучшенную очистку\n",
    "print(\"Предобработка текста...\")\n",
    "data['cleaned_message'] = data['message'].apply(advanced_clean_text)\n",
    "\n",
    "# Удаляем слишком короткие сообщения\n",
    "data['message_length'] = data['cleaned_message'].apply(len)\n",
    "data = data[data['message_length'] > 3]"
   ]
  },
  {
   "cell_type": "markdown",
   "id": "b2752561",
   "metadata": {},
   "source": [
    "# Оптимизация KNN"
   ]
  },
  {
   "cell_type": "code",
   "execution_count": 5,
   "id": "41b76452",
   "metadata": {},
   "outputs": [
    {
     "name": "stdout",
     "output_type": "stream",
     "text": [
      "\n",
      "Размер тренировочной выборки: 4436\n",
      "Размер тестовой выборки: 1109\n"
     ]
    }
   ],
   "source": [
    "X = data['cleaned_message']\n",
    "y = data['label']\n",
    "\n",
    "X_train, X_test, y_train, y_test = train_test_split(X, y, test_size=0.2, random_state=42, stratify=y)\n",
    "\n",
    "print(f\"\\nРазмер тренировочной выборки: {len(X_train)}\")\n",
    "print(f\"Размер тестовой выборки: {len(X_test)}\")"
   ]
  },
  {
   "cell_type": "markdown",
   "id": "1282021c",
   "metadata": {},
   "source": [
    "# === Обучение ==="
   ]
  },
  {
   "cell_type": "code",
   "execution_count": 6,
   "id": "1bc1fc73",
   "metadata": {},
   "outputs": [
    {
     "name": "stdout",
     "output_type": "stream",
     "text": [
      "\n",
      "Поиск оптимальных параметров KNN...\n"
     ]
    }
   ],
   "source": [
    "# Расширенный поиск лучших параметров для KNN\n",
    "print(\"\\nПоиск оптимальных параметров KNN...\")\n",
    "\n",
    "knn_pipeline = Pipeline([\n",
    "    ('tfidf', TfidfVectorizer()),\n",
    "    ('knn', KNeighborsClassifier())\n",
    "])\n",
    "\n",
    "# Расширенная сетка параметров\n",
    "param_grid = {\n",
    "    'tfidf__max_features': [3000, 5000, 8000, 10000],\n",
    "    'tfidf__ngram_range': [(1, 1), (1, 2), (1, 3)],\n",
    "    'tfidf__min_df': [1, 2, 3],\n",
    "    'tfidf__max_df': [0.7, 0.8, 0.9],\n",
    "    'tfidf__stop_words': [None, 'english'],\n",
    "    'tfidf__sublinear_tf': [True, False],\n",
    "    'knn__n_neighbors': [3, 5, 7, 9, 11, 15],\n",
    "    'knn__metric': ['cosine', 'euclidean', 'manhattan', 'minkowski'],\n",
    "    'knn__weights': ['uniform', 'distance'],\n",
    "    'knn__algorithm': ['auto', 'ball_tree', 'kd_tree', 'brute']\n",
    "}"
   ]
  },
  {
   "cell_type": "markdown",
   "id": "b2cd505e",
   "metadata": {},
   "source": [
    "# === 5. Обучение k-NN ==="
   ]
  },
  {
   "cell_type": "code",
   "execution_count": 7,
   "id": "b3f6811d",
   "metadata": {},
   "outputs": [
    {
     "name": "stdout",
     "output_type": "stream",
     "text": [
      "Лучшие параметры найдены!\n",
      "Лучшие параметры:\n",
      "  tfidf__sublinear_tf: False\n",
      "  tfidf__stop_words: None\n",
      "  tfidf__ngram_range: (1, 1)\n",
      "  tfidf__min_df: 2\n",
      "  tfidf__max_features: 5000\n",
      "  tfidf__max_df: 0.9\n",
      "  knn__weights: distance\n",
      "  knn__n_neighbors: 3\n",
      "  knn__metric: cosine\n",
      "  knn__algorithm: auto\n"
     ]
    },
    {
     "name": "stderr",
     "output_type": "stream",
     "text": [
      "c:\\Users\\tybfist\\AppData\\Local\\Programs\\Python\\Python313\\Lib\\site-packages\\sklearn\\model_selection\\_validation.py:516: FitFailedWarning: \n",
      "18 fits failed out of a total of 150.\n",
      "The score on these train-test partitions for these parameters will be set to nan.\n",
      "If these failures are not expected, you can try to debug them by setting error_score='raise'.\n",
      "\n",
      "Below are more details about the failures:\n",
      "--------------------------------------------------------------------------------\n",
      "9 fits failed with the following error:\n",
      "Traceback (most recent call last):\n",
      "  File \"c:\\Users\\tybfist\\AppData\\Local\\Programs\\Python\\Python313\\Lib\\site-packages\\sklearn\\model_selection\\_validation.py\", line 859, in _fit_and_score\n",
      "    estimator.fit(X_train, y_train, **fit_params)\n",
      "    ~~~~~~~~~~~~~^^^^^^^^^^^^^^^^^^^^^^^^^^^^^^^^\n",
      "  File \"c:\\Users\\tybfist\\AppData\\Local\\Programs\\Python\\Python313\\Lib\\site-packages\\sklearn\\base.py\", line 1365, in wrapper\n",
      "    return fit_method(estimator, *args, **kwargs)\n",
      "  File \"c:\\Users\\tybfist\\AppData\\Local\\Programs\\Python\\Python313\\Lib\\site-packages\\sklearn\\pipeline.py\", line 663, in fit\n",
      "    self._final_estimator.fit(Xt, y, **last_step_params[\"fit\"])\n",
      "    ~~~~~~~~~~~~~~~~~~~~~~~~~^^^^^^^^^^^^^^^^^^^^^^^^^^^^^^^^^^\n",
      "  File \"c:\\Users\\tybfist\\AppData\\Local\\Programs\\Python\\Python313\\Lib\\site-packages\\sklearn\\base.py\", line 1365, in wrapper\n",
      "    return fit_method(estimator, *args, **kwargs)\n",
      "  File \"c:\\Users\\tybfist\\AppData\\Local\\Programs\\Python\\Python313\\Lib\\site-packages\\sklearn\\neighbors\\_classification.py\", line 239, in fit\n",
      "    return self._fit(X, y)\n",
      "           ~~~~~~~~~^^^^^^\n",
      "  File \"c:\\Users\\tybfist\\AppData\\Local\\Programs\\Python\\Python313\\Lib\\site-packages\\sklearn\\neighbors\\_base.py\", line 534, in _fit\n",
      "    self._check_algorithm_metric()\n",
      "    ~~~~~~~~~~~~~~~~~~~~~~~~~~~~^^\n",
      "  File \"c:\\Users\\tybfist\\AppData\\Local\\Programs\\Python\\Python313\\Lib\\site-packages\\sklearn\\neighbors\\_base.py\", line 455, in _check_algorithm_metric\n",
      "    raise ValueError(\n",
      "    ...<4 lines>...\n",
      "    )\n",
      "ValueError: Metric 'cosine' not valid. Use sorted(sklearn.neighbors.VALID_METRICS['kd_tree']) to get valid options. Metric can also be a callable function.\n",
      "\n",
      "--------------------------------------------------------------------------------\n",
      "9 fits failed with the following error:\n",
      "Traceback (most recent call last):\n",
      "  File \"c:\\Users\\tybfist\\AppData\\Local\\Programs\\Python\\Python313\\Lib\\site-packages\\sklearn\\model_selection\\_validation.py\", line 859, in _fit_and_score\n",
      "    estimator.fit(X_train, y_train, **fit_params)\n",
      "    ~~~~~~~~~~~~~^^^^^^^^^^^^^^^^^^^^^^^^^^^^^^^^\n",
      "  File \"c:\\Users\\tybfist\\AppData\\Local\\Programs\\Python\\Python313\\Lib\\site-packages\\sklearn\\base.py\", line 1365, in wrapper\n",
      "    return fit_method(estimator, *args, **kwargs)\n",
      "  File \"c:\\Users\\tybfist\\AppData\\Local\\Programs\\Python\\Python313\\Lib\\site-packages\\sklearn\\pipeline.py\", line 663, in fit\n",
      "    self._final_estimator.fit(Xt, y, **last_step_params[\"fit\"])\n",
      "    ~~~~~~~~~~~~~~~~~~~~~~~~~^^^^^^^^^^^^^^^^^^^^^^^^^^^^^^^^^^\n",
      "  File \"c:\\Users\\tybfist\\AppData\\Local\\Programs\\Python\\Python313\\Lib\\site-packages\\sklearn\\base.py\", line 1365, in wrapper\n",
      "    return fit_method(estimator, *args, **kwargs)\n",
      "  File \"c:\\Users\\tybfist\\AppData\\Local\\Programs\\Python\\Python313\\Lib\\site-packages\\sklearn\\neighbors\\_classification.py\", line 239, in fit\n",
      "    return self._fit(X, y)\n",
      "           ~~~~~~~~~^^^^^^\n",
      "  File \"c:\\Users\\tybfist\\AppData\\Local\\Programs\\Python\\Python313\\Lib\\site-packages\\sklearn\\neighbors\\_base.py\", line 534, in _fit\n",
      "    self._check_algorithm_metric()\n",
      "    ~~~~~~~~~~~~~~~~~~~~~~~~~~~~^^\n",
      "  File \"c:\\Users\\tybfist\\AppData\\Local\\Programs\\Python\\Python313\\Lib\\site-packages\\sklearn\\neighbors\\_base.py\", line 455, in _check_algorithm_metric\n",
      "    raise ValueError(\n",
      "    ...<4 lines>...\n",
      "    )\n",
      "ValueError: Metric 'cosine' not valid. Use sorted(sklearn.neighbors.VALID_METRICS['ball_tree']) to get valid options. Metric can also be a callable function.\n",
      "\n",
      "  warnings.warn(some_fits_failed_message, FitFailedWarning)\n",
      "c:\\Users\\tybfist\\AppData\\Local\\Programs\\Python\\Python313\\Lib\\site-packages\\sklearn\\model_selection\\_search.py:1135: UserWarning: One or more of the test scores are non-finite: [0.60196148 0.90184896 0.00333333 0.00333333 0.88437066 0.03596523\n",
      " 0.35434672        nan 0.56040622 0.67393664 0.49890299 0.88391529\n",
      " 0.8763196  0.92085667 0.10112873 0.86372055 0.86874491 0.68429358\n",
      " 0.54580652 0.         0.87801973 0.80955198        nan 0.15108779\n",
      " 0.76057569 0.27405896 0.88733204 0.         0.54181337 0.00333333\n",
      " 0.71817792 0.00333333 0.00665008 0.71764703 0.84973054        nan\n",
      " 0.53550265 0.01328358 0.35081813 0.00333333        nan 0.00333333\n",
      "        nan 0.89174293        nan 0.33979934 0.63199085 0.80007078\n",
      " 0.00333333 0.89663274]\n",
      "  warnings.warn(\n"
     ]
    }
   ],
   "source": [
    "# Используем RandomizedSearchCV для более быстрого поиска\n",
    "from sklearn.model_selection import RandomizedSearchCV\n",
    "\n",
    "knn_search = RandomizedSearchCV(\n",
    "    knn_pipeline, \n",
    "    param_grid, \n",
    "    n_iter=50,  # Проверяем 50 случайных комбинаций\n",
    "    cv=3, \n",
    "    scoring='f1',\n",
    "    n_jobs=-1,\n",
    "    random_state=42\n",
    ")\n",
    "\n",
    "knn_search.fit(X_train, y_train)\n",
    "\n",
    "print(\"Лучшие параметры найдены!\")\n",
    "print(\"Лучшие параметры:\")\n",
    "for param, value in knn_search.best_params_.items():\n",
    "    print(f\"  {param}: {value}\")"
   ]
  },
  {
   "cell_type": "markdown",
   "id": "42245cf1",
   "metadata": {},
   "source": [
    "# === Сохранение модели ==="
   ]
  },
  {
   "cell_type": "code",
   "execution_count": 8,
   "id": "e84a61ae",
   "metadata": {},
   "outputs": [
    {
     "name": "stdout",
     "output_type": "stream",
     "text": [
      "\n",
      "============================================================\n",
      "ФИНАЛЬНЫЕ РЕЗУЛЬТАТЫ KNN\n",
      "============================================================\n",
      "Accuracy: 0.9793\n",
      "Precision: 0.9846\n",
      "Recall: 0.8591\n",
      "F1-score: 0.9176\n",
      "\n",
      "Classification Report:\n",
      "              precision    recall  f1-score   support\n",
      "\n",
      "           0       0.98      1.00      0.99       960\n",
      "           1       0.98      0.86      0.92       149\n",
      "\n",
      "    accuracy                           0.98      1109\n",
      "   macro avg       0.98      0.93      0.95      1109\n",
      "weighted avg       0.98      0.98      0.98      1109\n",
      "\n",
      "\n",
      "Матрица ошибок:\n",
      "[[958   2]\n",
      " [ 21 128]]\n"
     ]
    }
   ],
   "source": [
    "# Обучение финальной модели с лучшими параметрами\n",
    "final_knn = knn_search.best_estimator_\n",
    "\n",
    "# Детальная оценка\n",
    "y_pred = final_knn.predict(X_test)\n",
    "y_pred_proba = final_knn.predict_proba(X_test)\n",
    "\n",
    "print(\"\\n\" + \"=\"*60)\n",
    "print(\"ФИНАЛЬНЫЕ РЕЗУЛЬТАТЫ KNN\")\n",
    "print(\"=\"*60)\n",
    "\n",
    "print(f\"Accuracy: {accuracy_score(y_test, y_pred):.4f}\")\n",
    "print(f\"Precision: {precision_score(y_test, y_pred):.4f}\")\n",
    "print(f\"Recall: {recall_score(y_test, y_pred):.4f}\")\n",
    "print(f\"F1-score: {f1_score(y_test, y_pred):.4f}\")\n",
    "\n",
    "print(\"\\nClassification Report:\")\n",
    "print(classification_report(y_test, y_pred))\n",
    "\n",
    "print(\"\\nМатрица ошибок:\")\n",
    "print(confusion_matrix(y_test, y_pred))"
   ]
  },
  {
   "cell_type": "markdown",
   "id": "ddab258f",
   "metadata": {},
   "source": [
    "# Сохранение векторизатора отдельно (для возможности использования отдельно)"
   ]
  },
  {
   "cell_type": "code",
   "execution_count": 9,
   "id": "e2cd72a1",
   "metadata": {},
   "outputs": [
    {
     "name": "stdout",
     "output_type": "stream",
     "text": [
      "\n",
      "Анализ вероятностей:\n",
      "Средняя вероятность спама для реального спама: 0.849\n",
      "Средняя вероятность спама для реального не-спама: 0.009\n"
     ]
    }
   ],
   "source": [
    "# Анализ вероятностей для лучшего понимания модели\n",
    "print(\"\\nАнализ вероятностей:\")\n",
    "spam_probs = y_pred_proba[y_test == 1, 1]  # Вероятности для реального спама\n",
    "ham_probs = y_pred_proba[y_test == 0, 1]   # Вероятности для реального не-спама\n",
    "\n",
    "print(f\"Средняя вероятность спама для реального спама: {spam_probs.mean():.3f}\")\n",
    "print(f\"Средняя вероятность спама для реального не-спама: {ham_probs.mean():.3f}\")"
   ]
  },
  {
   "cell_type": "code",
   "execution_count": 10,
   "id": "3d78236d",
   "metadata": {},
   "outputs": [
    {
     "name": "stdout",
     "output_type": "stream",
     "text": [
      "\n",
      "Модель сохранена как 'improved_knn_spam_model.pkl'\n"
     ]
    }
   ],
   "source": [
    "# Сохранение модели\n",
    "joblib.dump(final_knn, 'improved_knn_spam_model.pkl')\n",
    "print(\"\\nМодель сохранена как 'improved_knn_spam_model.pkl'\")"
   ]
  },
  {
   "cell_type": "code",
   "execution_count": 11,
   "id": "102f41f8",
   "metadata": {},
   "outputs": [],
   "source": [
    "# Функция для проверки конкретных сообщений\n",
    "def analyze_message(model, message):\n",
    "    cleaned = advanced_clean_text(message)\n",
    "    prediction = model.predict([cleaned])[0]\n",
    "    probability = model.predict_proba([cleaned])[0]\n",
    "    \n",
    "    return {\n",
    "        'original': message,\n",
    "        'cleaned': cleaned,\n",
    "        'prediction': 'SPAM' if prediction == 1 else 'HAM',\n",
    "        'spam_probability': probability[1],\n",
    "        'ham_probability': probability[0]\n",
    "    }"
   ]
  },
  {
   "cell_type": "code",
   "execution_count": null,
   "id": "ed8121b5",
   "metadata": {},
   "outputs": [
    {
     "name": "stdout",
     "output_type": "stream",
     "text": [
      "\n",
      "============================================================\n",
      "ТЕСТИРОВАНИЕ НА ПРИМЕРАХ\n",
      "============================================================\n"
     ]
    }
   ],
   "source": [
    "# Тестирование на характерных примерах\n",
    "\n",
    "test_messages = [\n",
    "    \"Congratulations! You won $1000 prize! Call now to claim!!!\",\n",
    "    \"Hey, are we still meeting for lunch tomorrow?\",\n",
    "    \"URGENT: Your bank account needs verification. Click here.\",\n",
    "    \"Hi mom, I'll be home late today. See you for dinner\",\n",
    "    \"FREE iPhone waiting for you! Claim your prize now!\",\n",
    "    \"Meeting rescheduled to 3 PM. Please confirm attendance.\",\n",
    "    \"WINNER!! You have been selected for a free gift!\",\n",
    "    \"Can you pick up milk on your way home?\"\n",
    "]"
   ]
  },
  {
   "cell_type": "code",
   "execution_count": 13,
   "id": "0e92ebc9",
   "metadata": {},
   "outputs": [
    {
     "name": "stdout",
     "output_type": "stream",
     "text": [
      "\n",
      "Сообщение: Congratulations! You won $1000 prize! Call now to claim!!!\n",
      "Очищенное: congratulations excl you won money prize excl call now to claim excl\n",
      "Результат: SPAM (вероятность спама: 0.659)\n",
      "\n",
      "Сообщение: Hey, are we still meeting for lunch tomorrow?\n",
      "Очищенное: hey are we still meeting for lunch tomorrow?\n",
      "Результат: HAM (вероятность спама: 0.000)\n",
      "\n",
      "Сообщение: URGENT: Your bank account needs verification. Click here.\n",
      "Очищенное: urgent your bank account needs verification click here\n",
      "Результат: HAM (вероятность спама: 0.327)\n",
      "\n",
      "Сообщение: Hi mom, I'll be home late today. See you for dinner\n",
      "Очищенное: hi mom i ll be home late today see you for dinner\n",
      "Результат: HAM (вероятность спама: 0.000)\n",
      "\n",
      "Сообщение: FREE iPhone waiting for you! Claim your prize now!\n",
      "Очищенное: free iphone waiting for you excl claim your prize now excl\n",
      "Результат: HAM (вероятность спама: 0.319)\n",
      "\n",
      "Сообщение: Meeting rescheduled to 3 PM. Please confirm attendance.\n",
      "Очищенное: meeting rescheduled to pm please confirm attendance\n",
      "Результат: HAM (вероятность спама: 0.000)\n",
      "\n",
      "Сообщение: WINNER!! You have been selected for a free gift!\n",
      "Очищенное: winner excl you have been selected for a free gift excl\n",
      "Результат: HAM (вероятность спама: 0.331)\n",
      "\n",
      "Сообщение: Can you pick up milk on your way home?\n",
      "Очищенное: can you pick up milk on your way home?\n",
      "Результат: HAM (вероятность спама: 0.000)\n"
     ]
    }
   ],
   "source": [
    "for msg in test_messages:\n",
    "    result = analyze_message(final_knn, msg)\n",
    "    print(f\"\\nСообщение: {result['original']}\")\n",
    "    print(f\"Очищенное: {result['cleaned']}\")\n",
    "    print(f\"Результат: {result['prediction']} (вероятность спама: {result['spam_probability']:.3f})\")\n"
   ]
  },
  {
   "cell_type": "code",
   "execution_count": 14,
   "id": "2133a529",
   "metadata": {},
   "outputs": [
    {
     "name": "stdout",
     "output_type": "stream",
     "text": [
      "\n",
      "==================================================\n",
      "ИНТЕРАКТИВНАЯ ПРОВЕРКА\n",
      "Введите сообщение для проверки (или 'quit' для выхода):\n",
      "✅ ВЕРОЯТНО НЕ СПАМ (0.0%)\n",
      "🚫 ВЫСОКАЯ ВЕРОЯТНОСТЬ СПАМА (100.0%)\n",
      "✅ ВЕРОЯТНО НЕ СПАМ (0.0%)\n"
     ]
    }
   ],
   "source": [
    "# Интерактивный режим проверки\n",
    "def interactive_check():\n",
    "    print(\"\\n\" + \"=\"*50)\n",
    "    print(\"ИНТЕРАКТИВНАЯ ПРОВЕРКА\")\n",
    "    print(\"Введите сообщение для проверки (или 'quit' для выхода):\")\n",
    "    \n",
    "    while True:\n",
    "        user_input = input(\"\\nСообщение: \")\n",
    "        if user_input.lower() == 'quit':\n",
    "            break\n",
    "            \n",
    "        if user_input.strip():\n",
    "            result = analyze_message(final_knn, user_input)\n",
    "            prob = result['spam_probability']\n",
    "            \n",
    "            if prob > 0.7:\n",
    "                print(f\"🚫 ВЫСОКАЯ ВЕРОЯТНОСТЬ СПАМА ({prob:.1%})\")\n",
    "            elif prob > 0.3:\n",
    "                print(f\"⚠️  ВОЗМОЖНО СПАМ ({prob:.1%})\")\n",
    "            else:\n",
    "                print(f\"✅ ВЕРОЯТНО НЕ СПАМ ({prob:.1%})\")\n",
    "\n",
    "# Запуск интерактивной проверки\n",
    "interactive_check()"
   ]
  }
 ],
 "metadata": {
  "kernelspec": {
   "display_name": "Python 3",
   "language": "python",
   "name": "python3"
  },
  "language_info": {
   "codemirror_mode": {
    "name": "ipython",
    "version": 3
   },
   "file_extension": ".py",
   "mimetype": "text/x-python",
   "name": "python",
   "nbconvert_exporter": "python",
   "pygments_lexer": "ipython3",
   "version": "3.13.3"
  }
 },
 "nbformat": 4,
 "nbformat_minor": 5
}
